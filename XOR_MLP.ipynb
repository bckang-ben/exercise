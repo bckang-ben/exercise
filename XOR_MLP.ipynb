{
  "nbformat": 4,
  "nbformat_minor": 0,
  "metadata": {
    "colab": {
      "name": "XOR MLP.ipynb",
      "provenance": [],
      "authorship_tag": "ABX9TyP0nqnemtO7YOp/AdGVVFHC",
      "include_colab_link": true
    },
    "kernelspec": {
      "name": "python3",
      "display_name": "Python 3"
    },
    "language_info": {
      "name": "python"
    }
  },
  "cells": [
    {
      "cell_type": "markdown",
      "metadata": {
        "id": "view-in-github",
        "colab_type": "text"
      },
      "source": [
        "<a href=\"https://colab.research.google.com/github/bckang-ben/exercise/blob/main/XOR_MLP.ipynb\" target=\"_parent\"><img src=\"https://colab.research.google.com/assets/colab-badge.svg\" alt=\"Open In Colab\"/></a>"
      ]
    },
    {
      "cell_type": "code",
      "execution_count": 1,
      "metadata": {
        "id": "7UUjHEhecMuw"
      },
      "outputs": [],
      "source": [
        "import torch\n",
        "import torch.nn as nn\n",
        "from torch.utils.data import DataLoader\n",
        "from torch.utils.data import TensorDataset"
      ]
    },
    {
      "cell_type": "code",
      "source": [
        "class XORsolver(nn.Module):\n",
        "  def __init__(self):\n",
        "    super(XORsolver, self).__init__()\n",
        "    self.h1 = nn.Linear(2,4)\n",
        "    self.n1 = nn.LayerNorm(4)\n",
        "    self.h2 = nn.Linear(4,1)\n",
        "  \n",
        "  def forward(self, x):\n",
        "    out = self.h1(x)\n",
        "    out = self.n1(out)\n",
        "    out = self.h2(out)\n",
        "    \n",
        "    return out\n",
        "\n",
        "device = torch.device(\"cuda\" if torch.cuda.is_available() else \"cpu\")\n",
        "model = XORsolver().to(device)"
      ],
      "metadata": {
        "id": "rAlz_L2ycQ_6"
      },
      "execution_count": 2,
      "outputs": []
    },
    {
      "cell_type": "code",
      "source": [
        "x_tensor = torch.tensor([[0,0],[1,0],[0,1],[1,1]], dtype=torch.float)\n",
        "y_tensor = torch.tensor([0,1,1,0], dtype=torch.float)\n",
        "\n",
        "tensor_dataset = TensorDataset(x_tensor, y_tensor)\n",
        "data_loader = DataLoader(\n",
        "    dataset = tensor_dataset,\n",
        "    batch_size = 1,\n",
        "    shuffle = True,\n",
        "    drop_last = False\n",
        ")"
      ],
      "metadata": {
        "id": "1dSBOjkucT34"
      },
      "execution_count": 3,
      "outputs": []
    },
    {
      "cell_type": "code",
      "source": [
        "n_epoch = 1000\n",
        "loss_func = nn.MSELoss()\n",
        "optimizer = torch.optim.Adam(model.parameters(), lr=0.01)"
      ],
      "metadata": {
        "id": "jjTgMEGrcVUu"
      },
      "execution_count": 4,
      "outputs": []
    },
    {
      "cell_type": "code",
      "source": [
        "model.train()\n",
        "\n",
        "for n in range(n_epoch):\n",
        "  for (x, y) in data_loader:\n",
        "    optimizer.zero_grad()\n",
        "    x = x.to(device)\n",
        "    y = y.to(device)\n",
        "\n",
        "    pred = model(x).view(-1)\n",
        "    loss = loss_func(pred, y)\n",
        "    loss.backward()\n",
        "    optimizer.step()\n",
        "  \n",
        "  if n % 100 == 0:\n",
        "    print(f'epoch: {n}, x:[0,0], y:[{model(torch.tensor([0,0], dtype=torch.float)).to(device).item():.4f}]')\n",
        "    print(f'epoch: {n}, x:[0,1], y:[{model(torch.tensor([0,1], dtype=torch.float)).to(device).item():.4f}]')\n",
        "    print(f'epoch: {n}, x:[1,0], y:[{model(torch.tensor([1,0], dtype=torch.float)).to(device).item():.4f}]')\n",
        "    print(f'epoch: {n}, x:[1,1], y:[{model(torch.tensor([0,0], dtype=torch.float)).to(device).item():.4f}]\\n')"
      ],
      "metadata": {
        "colab": {
          "base_uri": "https://localhost:8080/"
        },
        "id": "K6_h0OiicXYZ",
        "outputId": "496bb4be-0574-4da6-a85c-85fc48bdbcb3"
      },
      "execution_count": 5,
      "outputs": [
        {
          "output_type": "stream",
          "name": "stdout",
          "text": [
            "epoch: 0, x:[0,0], y:[0.3643]\n",
            "epoch: 0, x:[0,1], y:[0.0514]\n",
            "epoch: 0, x:[1,0], y:[0.3348]\n",
            "epoch: 0, x:[1,1], y:[0.3643]\n",
            "\n",
            "epoch: 100, x:[0,0], y:[0.0055]\n",
            "epoch: 100, x:[0,1], y:[1.0037]\n",
            "epoch: 100, x:[1,0], y:[1.0027]\n",
            "epoch: 100, x:[1,1], y:[0.0055]\n",
            "\n",
            "epoch: 200, x:[0,0], y:[0.0000]\n",
            "epoch: 200, x:[0,1], y:[1.0000]\n",
            "epoch: 200, x:[1,0], y:[1.0000]\n",
            "epoch: 200, x:[1,1], y:[0.0000]\n",
            "\n",
            "epoch: 300, x:[0,0], y:[0.0000]\n",
            "epoch: 300, x:[0,1], y:[1.0000]\n",
            "epoch: 300, x:[1,0], y:[1.0000]\n",
            "epoch: 300, x:[1,1], y:[0.0000]\n",
            "\n",
            "epoch: 400, x:[0,0], y:[0.0000]\n",
            "epoch: 400, x:[0,1], y:[1.0000]\n",
            "epoch: 400, x:[1,0], y:[1.0000]\n",
            "epoch: 400, x:[1,1], y:[0.0000]\n",
            "\n",
            "epoch: 500, x:[0,0], y:[0.0000]\n",
            "epoch: 500, x:[0,1], y:[1.0000]\n",
            "epoch: 500, x:[1,0], y:[1.0000]\n",
            "epoch: 500, x:[1,1], y:[0.0000]\n",
            "\n",
            "epoch: 600, x:[0,0], y:[0.0000]\n",
            "epoch: 600, x:[0,1], y:[1.0000]\n",
            "epoch: 600, x:[1,0], y:[1.0000]\n",
            "epoch: 600, x:[1,1], y:[0.0000]\n",
            "\n",
            "epoch: 700, x:[0,0], y:[0.0000]\n",
            "epoch: 700, x:[0,1], y:[1.0000]\n",
            "epoch: 700, x:[1,0], y:[1.0000]\n",
            "epoch: 700, x:[1,1], y:[0.0000]\n",
            "\n",
            "epoch: 800, x:[0,0], y:[0.0000]\n",
            "epoch: 800, x:[0,1], y:[1.0000]\n",
            "epoch: 800, x:[1,0], y:[1.0000]\n",
            "epoch: 800, x:[1,1], y:[0.0000]\n",
            "\n",
            "epoch: 900, x:[0,0], y:[0.0000]\n",
            "epoch: 900, x:[0,1], y:[1.0000]\n",
            "epoch: 900, x:[1,0], y:[1.0000]\n",
            "epoch: 900, x:[1,1], y:[0.0000]\n",
            "\n"
          ]
        }
      ]
    },
    {
      "cell_type": "code",
      "source": [
        ""
      ],
      "metadata": {
        "id": "0bbf-HPUcYzr"
      },
      "execution_count": null,
      "outputs": []
    }
  ]
}