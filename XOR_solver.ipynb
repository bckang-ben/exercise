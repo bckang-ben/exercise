{
  "nbformat": 4,
  "nbformat_minor": 0,
  "metadata": {
    "colab": {
      "name": "XOR solver.ipynb",
      "provenance": []
    },
    "kernelspec": {
      "name": "python3",
      "display_name": "Python 3"
    },
    "language_info": {
      "name": "python"
    }
  },
  "cells": [
    {
      "cell_type": "code",
      "execution_count": null,
      "metadata": {
        "id": "onc9MMODfNQk"
      },
      "outputs": [],
      "source": [
        "import torch\n",
        "import torch.nn as nn\n",
        "import torch.optim as optim\n",
        "from torch.utils.data import DataLoader\n",
        "from torch.utils.data import TensorDataset\n",
        "\n",
        "import matplotlib.pyplot as plt"
      ]
    },
    {
      "cell_type": "code",
      "source": [
        "class XORSolver(nn.Module):\n",
        "  def __init__(self):\n",
        "    super(XORSolver, self).__init__()\n",
        "\n",
        "    self.h1 = nn.Linear(2, 4)\n",
        "    self.n1 = nn.LayerNorm(4)\n",
        "    self.h2 = nn.Linear(4, 1)\n",
        "  \n",
        "  def forward(self, x):\n",
        "    out = self.h1(x)\n",
        "    out = self.n1(out)\n",
        "    out = self.h2(out)\n",
        "\n",
        "    return out"
      ],
      "metadata": {
        "id": "WG40RIiWfimA"
      },
      "execution_count": null,
      "outputs": []
    },
    {
      "cell_type": "code",
      "source": [
        "device = torch.device(\"cuda:0\" if torch.cuda.is_available() else \"cpu\")\n",
        "\n",
        "model = XORSolver()\n",
        "model.to(device)\n",
        "\n",
        "optimizer = optim.Adam(model.parameters(), lr=0.01)\n",
        "loss_func = nn.MSELoss()\n",
        "\n",
        "n_epoch = 1000"
      ],
      "metadata": {
        "id": "1CpRN_8yf3UW"
      },
      "execution_count": null,
      "outputs": []
    },
    {
      "cell_type": "code",
      "source": [
        "x_train = torch.tensor([[0,0],[1,0],[0,1],[1,1]], dtype=torch.float)\n",
        "y_train = torch.tensor([0,1,1,0], dtype=torch.float)\n",
        "\n",
        "train_dataset = TensorDataset(x_train, y_train)\n",
        "train_loader = DataLoader(\n",
        "    dataset=train_dataset,\n",
        "    batch_size=1,\n",
        "    shuffle=True,\n",
        "    drop_last=False\n",
        ")"
      ],
      "metadata": {
        "id": "d9FimcRKgQaP"
      },
      "execution_count": null,
      "outputs": []
    },
    {
      "cell_type": "code",
      "source": [
        "model.to(device)\n",
        "model.train()\n",
        "\n",
        "for i in range(n_epoch):\n",
        "  for (x, y_) in train_loader:\n",
        "    x = x.to(device)\n",
        "    y_ = y_.to(device)\n",
        "\n",
        "    optimizer.zero_grad()\n",
        "\n",
        "    predict = model(x).view(-1)\n",
        "    loss = loss_func(predict, y_)\n",
        "\n",
        "    loss.backward()\n",
        "    optimizer.step()\n",
        "  \n",
        "  if i % 100 == 0:\n",
        "    print(f'epoch: {i}')\n",
        "    print(f'x:[0,0], y:[{model(torch.tensor([0,0],dtype=torch.float)).to(device).item()}]')\n",
        "    print(f'x:[1,0], y:[{model(torch.tensor([1,0],dtype=torch.float)).to(device).item()}]')\n",
        "    print(f'x:[0,1], y:[{model(torch.tensor([0,1],dtype=torch.float)).to(device).item()}]')\n",
        "    print(f'x:[1,1], y:[{model(torch.tensor([1,1],dtype=torch.float)).to(device).item()}]')\n",
        "    print()"
      ],
      "metadata": {
        "colab": {
          "base_uri": "https://localhost:8080/"
        },
        "id": "DCPt-YjxgJPH",
        "outputId": "44f7a210-98b8-419b-ff35-29e08a6f23ce"
      },
      "execution_count": null,
      "outputs": [
        {
          "output_type": "stream",
          "name": "stdout",
          "text": [
            "epoch: 0\n",
            "x:[0,0], y:[1.4901161193847656e-08\n",
            "x:[1,0], y:[1.0\n",
            "x:[0,1], y:[0.9999998807907104\n",
            "x:[1,1], y:[-4.470348358154297e-08\n",
            "\n",
            "epoch: 100\n",
            "x:[0,0], y:[1.4901161193847656e-08\n",
            "x:[1,0], y:[1.0\n",
            "x:[0,1], y:[0.9999998807907104\n",
            "x:[1,1], y:[-4.470348358154297e-08\n",
            "\n",
            "epoch: 200\n",
            "x:[0,0], y:[1.4901161193847656e-08\n",
            "x:[1,0], y:[1.0\n",
            "x:[0,1], y:[1.0\n",
            "x:[1,1], y:[1.043081283569336e-07\n",
            "\n",
            "epoch: 300\n",
            "x:[0,0], y:[-0.0024657994508743286\n",
            "x:[1,0], y:[0.9951086640357971\n",
            "x:[0,1], y:[0.9957215189933777\n",
            "x:[1,1], y:[0.000850290060043335\n",
            "\n",
            "epoch: 400\n",
            "x:[0,0], y:[-2.2351741790771484e-07\n",
            "x:[1,0], y:[0.9999996423721313\n",
            "x:[0,1], y:[0.9999998807907104\n",
            "x:[1,1], y:[-2.5331974029541016e-07\n",
            "\n",
            "epoch: 500\n",
            "x:[0,0], y:[-2.9802322387695312e-08\n",
            "x:[1,0], y:[1.0\n",
            "x:[0,1], y:[1.0\n",
            "x:[1,1], y:[-1.4901161193847656e-08\n",
            "\n",
            "epoch: 600\n",
            "x:[0,0], y:[2.9802322387695312e-08\n",
            "x:[1,0], y:[1.0\n",
            "x:[0,1], y:[1.0\n",
            "x:[1,1], y:[-1.4901161193847656e-08\n",
            "\n",
            "epoch: 700\n",
            "x:[0,0], y:[-2.9802322387695312e-08\n",
            "x:[1,0], y:[1.0\n",
            "x:[0,1], y:[1.0\n",
            "x:[1,1], y:[-1.4901161193847656e-08\n",
            "\n",
            "epoch: 800\n",
            "x:[0,0], y:[-2.9802322387695312e-08\n",
            "x:[1,0], y:[1.0\n",
            "x:[0,1], y:[1.0\n",
            "x:[1,1], y:[-1.4901161193847656e-08\n",
            "\n",
            "epoch: 900\n",
            "x:[0,0], y:[2.9802322387695312e-08\n",
            "x:[1,0], y:[1.0\n",
            "x:[0,1], y:[1.0\n",
            "x:[1,1], y:[-1.4901161193847656e-08\n",
            "\n"
          ]
        }
      ]
    },
    {
      "cell_type": "code",
      "source": [
        "model.eval()\n",
        "output = []\n",
        "for x in x_train:\n",
        "  x = x.to(device)\n",
        "  predict = model(x).view(-1)\n",
        "\n",
        "  output.append(predict.item())\n",
        "\n",
        "print(output)"
      ],
      "metadata": {
        "colab": {
          "base_uri": "https://localhost:8080/"
        },
        "id": "k5bU65YXhVJQ",
        "outputId": "c9389dcd-c1c3-4003-f1b7-c5173f1c536f"
      },
      "execution_count": null,
      "outputs": [
        {
          "output_type": "stream",
          "name": "stdout",
          "text": [
            "[9.149312973022461e-06, 1.0000128746032715, 0.9999709129333496, -0.00018653273582458496]\n"
          ]
        }
      ]
    }
  ]
}